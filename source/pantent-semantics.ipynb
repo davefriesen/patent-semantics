{
 "cells": [
  {
   "cell_type": "markdown",
   "id": "5735aab7",
   "metadata": {},
   "source": [
    "# Patent Semantics\n",
    "__Minsu Kim and Dave Friesen - ADS-502-02-SP22__"
   ]
  },
  {
   "cell_type": "code",
   "execution_count": 2,
   "id": "ab62c01d",
   "metadata": {},
   "outputs": [],
   "source": [
    "__author__ = 'Minsu Kim, Dave Friesen'\n",
    "__email__ = 'misukim@sandiego.edu, dfriesen@sandiego.edu'\n",
    "__version__ = '1.0'\n",
    "__date__ = 'April 2022 2022'\n",
    "__license__ = 'MIT'"
   ]
  },
  {
   "cell_type": "markdown",
   "id": "54f6cd85",
   "metadata": {},
   "source": [
    "## Setup"
   ]
  },
  {
   "cell_type": "code",
   "execution_count": 3,
   "id": "6854017f",
   "metadata": {},
   "outputs": [],
   "source": [
    "# Import Python libraries\n",
    "import pandas as pd"
   ]
  },
  {
   "cell_type": "code",
   "execution_count": 4,
   "id": "14730fa6",
   "metadata": {},
   "outputs": [],
   "source": [
    "# Set Pandas options for consistent output\n",
    "pd.set_option('display.float_format', lambda x: '%.3f' % x)"
   ]
  },
  {
   "cell_type": "code",
   "execution_count": 5,
   "id": "2d34ada1",
   "metadata": {},
   "outputs": [
    {
     "name": "stdout",
     "output_type": "stream",
     "text": [
      "/Users/davidfriesen/Library/CloudStorage/OneDrive-Personal/projects/patent-semantics/data\n"
     ]
    }
   ],
   "source": [
    "# Set working directory (depending on coder)\n",
    "%cd '/Users/davidfriesen/Desktop/OneDrive/projects/patent-semantics/data'"
   ]
  },
  {
   "cell_type": "markdown",
   "id": "b0365dde",
   "metadata": {},
   "source": [
    "## Data Acquisition and Validation"
   ]
  },
  {
   "cell_type": "code",
   "execution_count": 6,
   "id": "8fcb62eb",
   "metadata": {},
   "outputs": [],
   "source": [
    "# Instantiate base dataframes\n",
    "train_df = pd.read_csv('train.csv')\n",
    "test_df = pd.read_csv('test.csv')\n",
    "sample_submission_df = pd.read_csv('sample_submission.csv')"
   ]
  },
  {
   "cell_type": "code",
   "execution_count": 7,
   "id": "78582412",
   "metadata": {},
   "outputs": [
    {
     "name": "stdout",
     "output_type": "stream",
     "text": [
      "\n",
      "train_df:\n",
      "                 id     anchor                  target context  score\n",
      "0  37d61fd2272659b1  abatement  abatement of pollution     A47  0.500\n",
      "1  7b9652b17b68b7a4  abatement          act of abating     A47  0.750\n",
      "2  36d72442aefd8232  abatement         active catalyst     A47  0.250\n",
      "3  5296b0c19e1ce60e  abatement     eliminating process     A47  0.500\n",
      "4  54c1e3b9184cb5b6  abatement           forest region     A47  0.000\n",
      "(36473, 5)\n",
      "\n",
      "test_df:\n",
      "                 id              anchor                         target context\n",
      "0  4112d61851461f60            opc drum  inorganic photoconductor drum     G02\n",
      "1  09e418c93a776564     adjust gas flow              altering gas flow     F23\n",
      "2  36baf228038e314b      lower trunnion                 lower locating     B60\n",
      "3  1f37ead645e7f0c8       cap component                  upper portion     D06\n",
      "4  71a5b6ad068d531f  neural stimulation      artificial neural network     H04\n",
      "(36, 4)\n",
      "\n",
      "sample_submission_df:\n",
      "                 id  score\n",
      "0  4112d61851461f60      0\n",
      "1  09e418c93a776564      0\n",
      "2  36baf228038e314b      0\n",
      "3  1f37ead645e7f0c8      0\n",
      "4  71a5b6ad068d531f      0\n",
      "(36, 2)\n"
     ]
    }
   ],
   "source": [
    "# Perform basic data validation steps by reviewing dataframe subset and metrics\n",
    "print('\\ntrain_df:\\n', train_df.head(),\n",
    "      '\\n', train_df.shape, sep = '')\n",
    "print('\\ntest_df:\\n', test_df.head(),\n",
    "      '\\n', test_df.shape, sep = '')\n",
    "print('\\nsample_submission_df:\\n', sample_submission_df.head(),\n",
    "      '\\n', sample_submission_df.shape, sep = '')"
   ]
  },
  {
   "cell_type": "markdown",
   "id": "0cd65e34",
   "metadata": {},
   "source": [
    "## Univariate Analysis and Data Preparation (Prospective-Feature Engineering)"
   ]
  },
  {
   "cell_type": "markdown",
   "id": "1fc9d350",
   "metadata": {},
   "source": [
    "### Data Characteristic Review"
   ]
  },
  {
   "cell_type": "code",
   "execution_count": 8,
   "id": "5cdf6cb1",
   "metadata": {
    "scrolled": false
   },
   "outputs": [
    {
     "name": "stdout",
     "output_type": "stream",
     "text": [
      "\n",
      "train_df data types:\n",
      "id          object\n",
      "anchor      object\n",
      "target      object\n",
      "context     object\n",
      "score      float64\n",
      "dtype: object\n",
      "\n",
      "test_df data types:\n",
      "id         object\n",
      "anchor     object\n",
      "target     object\n",
      "context    object\n",
      "dtype: object\n",
      "\n",
      "sample_submission_df data types:\n",
      "id       object\n",
      "score     int64\n",
      "dtype: object\n"
     ]
    }
   ],
   "source": [
    "# Understand sample characteristics (prospective model features and outcome(s)), including data types\n",
    "#   (numerical - discrete, continuous; categorical - ordinal, nominal)\n",
    "print('\\ntrain_df data types:\\n', train_df.dtypes, sep = '')\n",
    "print('\\ntest_df data types:\\n', test_df.dtypes, sep = '')\n",
    "print('\\nsample_submission_df data types:\\n', sample_submission_df.dtypes, sep = '')"
   ]
  },
  {
   "cell_type": "markdown",
   "id": "ec6c66b2",
   "metadata": {},
   "source": [
    "### Variable Type Transformations"
   ]
  },
  {
   "cell_type": "markdown",
   "id": "ea821848",
   "metadata": {},
   "source": [
    "### Aggregate, Descriptive Statistic, and Distribution Review"
   ]
  },
  {
   "cell_type": "markdown",
   "id": "4b4068a3",
   "metadata": {},
   "source": [
    "### Missing Value Review and Treatment"
   ]
  },
  {
   "cell_type": "markdown",
   "id": "43015a32",
   "metadata": {},
   "source": [
    "### Outlier Review and Treatment"
   ]
  },
  {
   "cell_type": "markdown",
   "id": "aaa358c2",
   "metadata": {},
   "source": [
    "### Duplicate Value Review and Treatment"
   ]
  },
  {
   "cell_type": "markdown",
   "id": "5bdc96a1",
   "metadata": {},
   "source": [
    "### Categorical Feature Standardization"
   ]
  },
  {
   "cell_type": "markdown",
   "id": "33f3fe89",
   "metadata": {},
   "source": [
    "### Data Normalization/Standardization/Rescaling"
   ]
  },
  {
   "cell_type": "markdown",
   "id": "635d355c",
   "metadata": {},
   "source": [
    "## Multivariate Analysis, Model and Feature Selection/Refinement"
   ]
  },
  {
   "cell_type": "markdown",
   "id": "8b334194",
   "metadata": {},
   "source": [
    "### Key Q n"
   ]
  },
  {
   "cell_type": "markdown",
   "id": "a2d892da",
   "metadata": {},
   "source": [
    "### Category Variable \"Dummy\" Encoding"
   ]
  },
  {
   "cell_type": "markdown",
   "id": "214083df",
   "metadata": {},
   "source": [
    "### Model Feature Selection"
   ]
  },
  {
   "cell_type": "markdown",
   "id": "646d03bd",
   "metadata": {},
   "source": [
    "### Model Feature Preparation"
   ]
  },
  {
   "cell_type": "markdown",
   "id": "38bf806e",
   "metadata": {},
   "source": [
    "### Model Collinearity Check"
   ]
  },
  {
   "cell_type": "markdown",
   "id": "403c5051",
   "metadata": {},
   "source": [
    "## Model Train, Test, and Evaluation"
   ]
  },
  {
   "cell_type": "markdown",
   "id": "e7fac7e9",
   "metadata": {},
   "source": [
    "### Model Iteration n"
   ]
  }
 ],
 "metadata": {
  "interpreter": {
   "hash": "ff47cd274c8997be5d64cba89aa887a6d1b42c6cd14acdf64f98ed7dc2146a1f"
  },
  "kernelspec": {
   "display_name": "Python 3.9.7 64-bit ('base': conda)",
   "language": "python",
   "name": "python397jvsc74a57bd0ff47cd274c8997be5d64cba89aa887a6d1b42c6cd14acdf64f98ed7dc2146a1f"
  },
  "language_info": {
   "codemirror_mode": {
    "name": "ipython",
    "version": 3
   },
   "file_extension": ".py",
   "mimetype": "text/x-python",
   "name": "python",
   "nbconvert_exporter": "python",
   "pygments_lexer": "ipython3",
   "version": "3.9.7"
  }
 },
 "nbformat": 4,
 "nbformat_minor": 5
}

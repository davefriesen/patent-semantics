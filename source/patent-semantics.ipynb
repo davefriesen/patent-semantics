{
 "cells": [
  {
   "cell_type": "markdown",
   "id": "5735aab7",
   "metadata": {},
   "source": [
    "# Patent Semantics\n",
    "__Minsu Kim and Dave Friesen - ADS-502-02-SP22__"
   ]
  },
  {
   "cell_type": "code",
<<<<<<< HEAD
   "execution_count": 315,
=======
   "execution_count": null,
   "id": "6f54f3d0",
   "metadata": {},
   "outputs": [],
   "source": [
    "#test"
   ]
  },
  {
   "cell_type": "code",
   "execution_count": 1,
>>>>>>> b3ae6af05d211e06a15b38a67ce713fa3563fcf9
   "id": "ab62c01d",
   "metadata": {},
   "outputs": [],
   "source": [
    "__author__ = 'Minsu Kim, Dave Friesen'\n",
    "__email__ = 'misukim@sandiego.edu, dfriesen@sandiego.edu'\n",
    "__version__ = '1.0'\n",
    "__date__ = 'April 2022 2022'\n",
    "__license__ = 'MIT'"
   ]
  },
  {
   "cell_type": "markdown",
   "id": "54f6cd85",
   "metadata": {},
   "source": [
    "## Setup"
   ]
  },
  {
   "cell_type": "code",
   "execution_count": 316,
   "id": "6854017f",
   "metadata": {},
   "outputs": [],
   "source": [
    "# Import Python libraries\n",
    "import pandas as pd\n",
    "\n",
    "from sentence_transformers import SentenceTransformer\n",
    "from sklearn.metrics.pairwise import cosine_similarity\n",
    "\n",
    "import matplotlib.pyplot as plt\n",
    "import seaborn as sns"
   ]
  },
  {
   "cell_type": "code",
   "execution_count": 317,
   "id": "14730fa6",
   "metadata": {},
   "outputs": [
    {
     "name": "stdout",
     "output_type": "stream",
     "text": [
      "/Users/davidfriesen/Library/CloudStorage/OneDrive-Personal/projects/patent-semantics/data\n"
     ]
    }
   ],
   "source": [
    "# Set Pandas options for consistent output\n",
    "pd.set_option('display.float_format', lambda x: '%.3f' % x)\n",
    "\n",
    "# Set working directory (depending on coder)\n",
    "%cd '/Users/davidfriesen/Desktop/OneDrive/projects/patent-semantics/data'"
   ]
  },
  {
   "cell_type": "code",
   "execution_count": 318,
   "id": "8b1bc172",
   "metadata": {},
   "outputs": [],
   "source": [
    "# Set Matplotlib options for consistent visualization look 'n' feel\n",
    "plt.style.use('default')\n",
    "\n",
    "plt.rcParams['lines.linewidth'] = '1.5'\n",
    "\n",
    "plt.rcParams['font.family'] = 'Open Sans'\n",
    "\n",
    "plt.rcParams['axes.edgecolor'] = '#999999'\n",
    "plt.rcParams['axes.titlelocation'] = 'left'\n",
    "plt.rcParams['axes.titlesize'] = '12'\n",
    "plt.rcParams['axes.labelsize'] = '9'\n",
    "plt.rcParams['axes.labelcolor'] = '#999999'\n",
    "plt.rcParams['axes.spines.top'] = 'False'  # Seaborn automatically despines for relplot()\n",
    "plt.rcParams['axes.spines.right'] = 'False'  # Seaborn automatically despines for relplot()\n",
    "plt.rcParams['axes.prop_cycle'] = plt.cycler(color = ['#0070c0']) \n",
    "PLT_ALTERNATE_COLOR = 'orange'\n",
    "\n",
    "plt.rcParams['xtick.color'] = '#cccccc'\n",
    "plt.rcParams['xtick.labelcolor'] = '#777777'\n",
    "plt.rcParams['xtick.labelsize'] = '9'\n",
    "plt.rcParams['ytick.color'] = '#cccccc'\n",
    "plt.rcParams['ytick.labelcolor'] = '#777777'\n",
    "plt.rcParams['ytick.labelsize'] = '9'\n",
    "\n",
    "plt.rcParams['figure.figsize'] = [7, 7 / (16 / 9)]\n",
    "plt.rcParams['figure.subplot.left'] = 0.17\n",
    "plt.rcParams['figure.subplot.right'] = 1\n",
    "plt.rcParams['figure.subplot.bottom'] = 0.19\n",
    "plt.rcParams['figure.subplot.top'] = 0.82\n",
    "plt.rcParams['figure.subplot.wspace'] = 0.05\n",
    "plt.rcParams['figure.subplot.hspace'] = 0.05"
   ]
  },
  {
   "cell_type": "markdown",
   "id": "b0365dde",
   "metadata": {},
   "source": [
    "## Data Acquisition and Validation"
   ]
  },
  {
   "cell_type": "code",
   "execution_count": 319,
   "id": "8fcb62eb",
   "metadata": {},
   "outputs": [],
   "source": [
    "# Instantiate base training dataframe\n",
    "train_df = pd.read_csv('train.csv')\n",
    "titles_df = pd.read_csv('titles.csv')\n",
    "test_df = pd.read_csv('test.csv')\n",
    "sample_submission_df = pd.read_csv('sample_submission.csv')"
   ]
  },
  {
   "cell_type": "code",
   "execution_count": 320,
   "id": "78582412",
   "metadata": {},
   "outputs": [
    {
     "name": "stdout",
     "output_type": "stream",
     "text": [
      "\n",
      "train_df:\n",
      "                 id     anchor                  target context  score\n",
      "0  37d61fd2272659b1  abatement  abatement of pollution     A47  0.500\n",
      "1  7b9652b17b68b7a4  abatement          act of abating     A47  0.750\n",
      "2  36d72442aefd8232  abatement         active catalyst     A47  0.250\n",
      "3  5296b0c19e1ce60e  abatement     eliminating process     A47  0.500\n",
      "4  54c1e3b9184cb5b6  abatement           forest region     A47  0.000\n",
      "(36473, 5)\n",
      "\n",
      "titles_df:\n",
      "       code                                              title section  class  \\\n",
      "0         A                                  HUMAN NECESSITIES       A    NaN   \n",
      "1       A01  AGRICULTURE; FORESTRY; ANIMAL HUSBANDRY; HUNTI...       A  1.000   \n",
      "2      A01B  SOIL WORKING IN AGRICULTURE OR FORESTRY; PARTS...       A  1.000   \n",
      "3  A01B1/00  Hand tools (edge trimmers for lawns A01G3/06  ...       A  1.000   \n",
      "4  A01B1/02  Spades; Shovels {(hand-operated dredgers E02F3...       A  1.000   \n",
      "\n",
      "  subclass  group  main_group  \n",
      "0      NaN    NaN         NaN  \n",
      "1      NaN    NaN         NaN  \n",
      "2        B    NaN         NaN  \n",
      "3        B  1.000       0.000  \n",
      "4        B  1.000       2.000  \n",
      "(260476, 7)\n",
      "\n",
      "test_df:\n",
      "                 id              anchor                         target context\n",
      "0  4112d61851461f60            opc drum  inorganic photoconductor drum     G02\n",
      "1  09e418c93a776564     adjust gas flow              altering gas flow     F23\n",
      "2  36baf228038e314b      lower trunnion                 lower locating     B60\n",
      "3  1f37ead645e7f0c8       cap component                  upper portion     D06\n",
      "4  71a5b6ad068d531f  neural stimulation      artificial neural network     H04\n",
      "(36, 4)\n",
      "\n",
      "sample_submission_df:\n",
      "                 id  score\n",
      "0  4112d61851461f60      0\n",
      "1  09e418c93a776564      0\n",
      "2  36baf228038e314b      0\n",
      "3  1f37ead645e7f0c8      0\n",
      "4  71a5b6ad068d531f      0\n",
      "(36, 2)\n"
     ]
    }
   ],
   "source": [
    "# Perform basic data validation steps by reviewing dataframe subset and metrics\n",
    "print('\\ntrain_df:\\n', train_df.head(5), '\\n', train_df.shape, sep = '')\n",
    "print('\\ntitles_df:\\n', titles_df.head(5), '\\n', titles_df.shape, sep = '')\n",
    "print('\\ntest_df:\\n', test_df.head(5), '\\n', test_df.shape, sep = '')\n",
    "print('\\nsample_submission_df:\\n', sample_submission_df.head(5), '\\n', sample_submission_df.shape, sep = '')"
   ]
  },
  {
   "cell_type": "markdown",
   "id": "0cd65e34",
   "metadata": {},
   "source": [
    "## Univariate Analysis and Data Preparation"
   ]
  },
  {
   "cell_type": "markdown",
   "id": "1fc9d350",
   "metadata": {},
   "source": [
    "### Data Characteristic Review"
   ]
  },
  {
   "cell_type": "code",
   "execution_count": 321,
   "id": "5cdf6cb1",
   "metadata": {
    "scrolled": false
   },
   "outputs": [
    {
     "name": "stdout",
     "output_type": "stream",
     "text": [
      "\n",
      "train_df data types:\n",
      "id          object\n",
      "anchor      object\n",
      "target      object\n",
      "context     object\n",
      "score      float64\n",
      "dtype: object\n",
      "\n",
      "test_df data types:\n",
      "id         object\n",
      "anchor     object\n",
      "target     object\n",
      "context    object\n",
      "dtype: object\n",
      "\n",
      "sample_submission_df data types:\n",
      "id       object\n",
      "score     int64\n",
      "dtype: object\n"
     ]
    }
   ],
   "source": [
    "# Understand sample characteristics (prospective model features and outcome(s)), including data types\n",
    "#   (numerical - discrete, continuous; categorical - ordinal, nominal)\n",
    "print('\\ntrain_df data types:\\n', train_df.dtypes, sep = '')\n",
    "print('\\ntest_df data types:\\n', test_df.dtypes, sep = '')\n",
    "print('\\nsample_submission_df data types:\\n', sample_submission_df.dtypes, sep = '')"
   ]
  },
  {
   "cell_type": "markdown",
   "id": "df873c8a",
   "metadata": {},
   "source": [
    "### [experimentation]"
   ]
  },
  {
   "cell_type": "code",
   "execution_count": 322,
   "id": "4e574e0e",
   "metadata": {},
   "outputs": [],
   "source": [
    "# Generate text embeddings and resulting similarity scores for full training set\n",
    "model_name = 'bert-base-nli-mean-tokens'\n",
    "model = SentenceTransformer(model_name)\n",
    "\n",
    "def sim_score(a, b):\n",
    "    sentence_vecs = model.encode([a, b])\n",
    "    sim = cosine_similarity([sentence_vecs[0]], sentence_vecs[1:])[0, 0]\n",
    "    print(a, b, sim)\n",
    "    return sim\n",
    "\n",
    "#Complete: train_df['sim'] = train_df[['anchor', 'target']].apply(lambda t: sim_score(*t), axis = 1)"
   ]
  },
  {
   "cell_type": "code",
   "execution_count": 323,
   "id": "e9a2dc73",
   "metadata": {},
   "outputs": [],
   "source": [
    "# Generate target word counts for analysis\n",
    "def word_count(s):\n",
    "    l = len(str(s).split())\n",
    "    return l\n",
    "\n",
    "#Complete: train_df['target_wc'] = train_df[['target']].apply(lambda s: word_count(*s), axis = 1)"
   ]
  },
  {
   "cell_type": "code",
   "execution_count": 324,
   "id": "d797ee9f",
   "metadata": {},
   "outputs": [],
   "source": [
    "# Categorize scores (for analysis)\n",
    "#Complete:\n",
    "#train_df['conf'] = pd.cut(\n",
    "#    train_df['score'],\n",
    "#    bins = [-1, 0, 0.25, 0.5, 0.75, 1],\n",
    "#    labels = ['n/a', 'Low', 'Medium', 'High', 'Match']\n",
    "#)"
   ]
  },
  {
   "cell_type": "code",
   "execution_count": 325,
   "id": "d72c719c",
   "metadata": {},
   "outputs": [],
   "source": [
    "#train_df.to_csv('train_ext.csv', index = False)\n",
    "#train_df_ext = train_df\n",
    "train_ext_df = pd.read_csv('train_ext.csv')"
   ]
  },
  {
   "cell_type": "code",
   "execution_count": 326,
   "id": "8e9b46c8",
   "metadata": {},
   "outputs": [
    {
     "data": {
      "image/png": "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\n",
      "text/plain": [
       "<Figure size 700x393.75 with 1 Axes>"
      ]
     },
     "metadata": {},
     "output_type": "display_data"
    }
   ],
   "source": [
    "# Review distribution of our SentenceTransform/cosine similarity scores vs. given training scores\n",
    "fig, ax = plt.subplots()\n",
    "sns.boxplot(\n",
    "    x = 'sim', y = 'conf',\n",
    "    data = train_df_ext,\n",
    "    order = ['Match', 'High', 'Medium', 'Low']\n",
    ").set(\n",
    "    title = 'Similarity Distribution vs. Training Scores',\n",
    "    xlabel = 'Similarity Score',\n",
    "    ylabel = 'Training Score'\n",
    ")\n",
    "\n",
    "plt.show()\n",
    "\n",
    "fig.savefig('similarity-v-training.png')"
   ]
  },
  {
   "cell_type": "code",
   "execution_count": null,
   "id": "5d569fbf",
   "metadata": {},
   "outputs": [],
   "source": []
  },
  {
   "cell_type": "code",
   "execution_count": null,
   "id": "c8f95b42",
   "metadata": {},
   "outputs": [],
   "source": [
    "# Starting. . . heat map, per Minsu suggestion. . ."
   ]
  },
  {
   "cell_type": "code",
   "execution_count": null,
   "id": "1e686f14",
   "metadata": {},
   "outputs": [],
   "source": []
  },
  {
   "cell_type": "code",
   "execution_count": null,
   "id": "ad9bf2cd",
   "metadata": {},
   "outputs": [],
   "source": [
    "# Starting. . . merge w/context\n",
    "#pd.merge(train_ext_df, titles_df, how='inner', left_on = 'context', right_on = 'code')"
   ]
  },
  {
   "cell_type": "code",
   "execution_count": null,
   "id": "2f2084ce",
   "metadata": {},
   "outputs": [],
   "source": []
  },
  {
   "cell_type": "markdown",
   "id": "ec6c66b2",
   "metadata": {},
   "source": [
    "### Variable Type Transformations"
   ]
  },
  {
   "cell_type": "markdown",
   "id": "ea821848",
   "metadata": {},
   "source": [
    "### Aggregate, Descriptive Statistic, and Distribution Review"
   ]
  },
  {
   "cell_type": "markdown",
   "id": "4b4068a3",
   "metadata": {},
   "source": [
    "### Missing Value Review and Treatment"
   ]
  },
  {
   "cell_type": "markdown",
   "id": "43015a32",
   "metadata": {},
   "source": [
    "### Outlier Review and Treatment"
   ]
  },
  {
   "cell_type": "markdown",
   "id": "aaa358c2",
   "metadata": {},
   "source": [
    "### Duplicate Value Review and Treatment"
   ]
  },
  {
   "cell_type": "markdown",
   "id": "5bdc96a1",
   "metadata": {},
   "source": [
    "### Categorical Feature Standardization"
   ]
  },
  {
   "cell_type": "markdown",
   "id": "33f3fe89",
   "metadata": {},
   "source": [
    "### Data Normalization/Standardization/Rescaling"
   ]
  },
  {
   "cell_type": "markdown",
   "id": "635d355c",
   "metadata": {},
   "source": [
    "## Multivariate Analysis, Model and Feature Selection/Refinement"
   ]
  },
  {
   "cell_type": "markdown",
   "id": "8b334194",
   "metadata": {},
   "source": [
    "### Key Q n"
   ]
  },
  {
   "cell_type": "markdown",
   "id": "a2d892da",
   "metadata": {},
   "source": [
    "### Category Variable \"Dummy\" Encoding"
   ]
  },
  {
   "cell_type": "markdown",
   "id": "214083df",
   "metadata": {},
   "source": [
    "### Model Feature Selection"
   ]
  },
  {
   "cell_type": "markdown",
   "id": "646d03bd",
   "metadata": {},
   "source": [
    "### Model Feature Preparation"
   ]
  },
  {
   "cell_type": "markdown",
   "id": "38bf806e",
   "metadata": {},
   "source": [
    "### Model Collinearity Check"
   ]
  },
  {
   "cell_type": "markdown",
   "id": "403c5051",
   "metadata": {},
   "source": [
    "## Model Train, Test, and Evaluation"
   ]
  },
  {
   "cell_type": "markdown",
   "id": "e7fac7e9",
   "metadata": {},
   "source": [
    "### Model Iteration n"
   ]
  }
 ],
 "metadata": {
  "interpreter": {
   "hash": "ff47cd274c8997be5d64cba89aa887a6d1b42c6cd14acdf64f98ed7dc2146a1f"
  },
  "kernelspec": {
   "display_name": "Python 3 (ipykernel)",
   "language": "python",
   "name": "python3"
  },
  "language_info": {
   "codemirror_mode": {
    "name": "ipython",
    "version": 3
   },
   "file_extension": ".py",
   "mimetype": "text/x-python",
   "name": "python",
   "nbconvert_exporter": "python",
   "pygments_lexer": "ipython3",
   "version": "3.9.5"
  }
 },
 "nbformat": 4,
 "nbformat_minor": 5
}

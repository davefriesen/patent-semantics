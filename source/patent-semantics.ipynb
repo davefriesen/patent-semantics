{
 "cells": [
  {
   "cell_type": "markdown",
   "id": "5735aab7",
   "metadata": {},
   "source": [
    "# Patent Semantics\n",
    "__Minsu Kim and Dave Friesen - ADS-502-02-SP22__"
   ]
  },
  {
   "cell_type": "code",
   "execution_count": null,
   "id": "6f54f3d0",
   "metadata": {},
   "outputs": [],
   "source": [
    "#test"
   ]
  },
  {
   "cell_type": "code",
   "execution_count": 1,
   "id": "ab62c01d",
   "metadata": {},
   "outputs": [],
   "source": [
    "__author__ = 'Minsu Kim, Dave Friesen'\n",
    "__email__ = 'misukim@sandiego.edu, dfriesen@sandiego.edu'\n",
    "__version__ = '1.0'\n",
    "__date__ = 'April 2022 2022'\n",
    "__license__ = 'MIT'"
   ]
  },
  {
   "cell_type": "markdown",
   "id": "54f6cd85",
   "metadata": {},
   "source": [
    "## Setup"
   ]
  },
  {
   "cell_type": "code",
   "execution_count": 2,
   "id": "6854017f",
   "metadata": {},
   "outputs": [],
   "source": [
    "# Import Python libraries\n",
    "import pandas as pd\n",
    "from sentence_transformers import SentenceTransformer\n",
    "from sklearn.metrics.pairwise import cosine_similarity"
   ]
  },
  {
   "cell_type": "code",
   "execution_count": 3,
   "id": "14730fa6",
   "metadata": {},
   "outputs": [],
   "source": [
    "# Set Pandas options for consistent output\n",
    "pd.set_option('display.float_format', lambda x: '%.3f' % x)"
   ]
  },
  {
   "cell_type": "code",
   "execution_count": 4,
   "id": "2d34ada1",
   "metadata": {},
   "outputs": [
    {
     "name": "stdout",
     "output_type": "stream",
     "text": [
      "/Users/davidfriesen/Library/CloudStorage/OneDrive-Personal/projects/patent-semantics/data\n"
     ]
    }
   ],
   "source": [
    "# Set working directory (depending on coder)\n",
    "%cd '/Users/davidfriesen/Desktop/OneDrive/projects/patent-semantics/data'"
   ]
  },
  {
   "cell_type": "markdown",
   "id": "b0365dde",
   "metadata": {},
   "source": [
    "## Data Acquisition and Validation"
   ]
  },
  {
   "cell_type": "code",
   "execution_count": 5,
   "id": "8fcb62eb",
   "metadata": {},
   "outputs": [],
   "source": [
    "# Instantiate base training dataframe\n",
    "train_df = pd.read_csv('train.csv')\n",
    "test_df = pd.read_csv('test.csv')\n",
    "sample_submission_df = pd.read_csv('sample_submission.csv')"
   ]
  },
  {
   "cell_type": "code",
   "execution_count": 6,
   "id": "78582412",
   "metadata": {},
   "outputs": [
    {
     "name": "stdout",
     "output_type": "stream",
     "text": [
      "\n",
      "train_df:\n",
      "                 id     anchor                  target context  score\n",
      "0  37d61fd2272659b1  abatement  abatement of pollution     A47  0.500\n",
      "1  7b9652b17b68b7a4  abatement          act of abating     A47  0.750\n",
      "2  36d72442aefd8232  abatement         active catalyst     A47  0.250\n",
      "3  5296b0c19e1ce60e  abatement     eliminating process     A47  0.500\n",
      "4  54c1e3b9184cb5b6  abatement           forest region     A47  0.000\n",
      "(36473, 5)\n",
      "\n",
      "test_df:\n",
      "                 id              anchor                         target context\n",
      "0  4112d61851461f60            opc drum  inorganic photoconductor drum     G02\n",
      "1  09e418c93a776564     adjust gas flow              altering gas flow     F23\n",
      "2  36baf228038e314b      lower trunnion                 lower locating     B60\n",
      "3  1f37ead645e7f0c8       cap component                  upper portion     D06\n",
      "4  71a5b6ad068d531f  neural stimulation      artificial neural network     H04\n",
      "(36, 4)\n",
      "\n",
      "sample_submission_df:\n",
      "                 id  score\n",
      "0  4112d61851461f60      0\n",
      "1  09e418c93a776564      0\n",
      "2  36baf228038e314b      0\n",
      "3  1f37ead645e7f0c8      0\n",
      "4  71a5b6ad068d531f      0\n",
      "(36, 2)\n"
     ]
    }
   ],
   "source": [
    "# Perform basic data validation steps by reviewing dataframe subset and metrics\n",
    "print('\\ntrain_df:\\n', train_df.head(5), '\\n', train_df.shape, sep = '')\n",
    "print('\\ntest_df:\\n', test_df.head(5), '\\n', test_df.shape, sep = '')\n",
    "print('\\nsample_submission_df:\\n', sample_submission_df.head(5), '\\n', sample_submission_df.shape, sep = '')"
   ]
  },
  {
   "cell_type": "markdown",
   "id": "0cd65e34",
   "metadata": {},
   "source": [
    "## Univariate Analysis and Data Preparation"
   ]
  },
  {
   "cell_type": "markdown",
   "id": "1fc9d350",
   "metadata": {},
   "source": [
    "### Data Characteristic Review"
   ]
  },
  {
   "cell_type": "code",
   "execution_count": 7,
   "id": "5cdf6cb1",
   "metadata": {
    "scrolled": false
   },
   "outputs": [
    {
     "name": "stdout",
     "output_type": "stream",
     "text": [
      "\n",
      "train_df data types:\n",
      "id          object\n",
      "anchor      object\n",
      "target      object\n",
      "context     object\n",
      "score      float64\n",
      "dtype: object\n",
      "\n",
      "test_df data types:\n",
      "id         object\n",
      "anchor     object\n",
      "target     object\n",
      "context    object\n",
      "dtype: object\n",
      "\n",
      "sample_submission_df data types:\n",
      "id       object\n",
      "score     int64\n",
      "dtype: object\n"
     ]
    }
   ],
   "source": [
    "# Understand sample characteristics (prospective model features and outcome(s)), including data types\n",
    "#   (numerical - discrete, continuous; categorical - ordinal, nominal)\n",
    "print('\\ntrain_df data types:\\n', train_df.dtypes, sep = '')\n",
    "print('\\ntest_df data types:\\n', test_df.dtypes, sep = '')\n",
    "print('\\nsample_submission_df data types:\\n', sample_submission_df.dtypes, sep = '')"
   ]
  },
  {
   "cell_type": "markdown",
   "id": "df873c8a",
   "metadata": {},
   "source": [
    "### [experimentation]"
   ]
  },
  {
   "cell_type": "code",
   "execution_count": 8,
   "id": "4ae7a9be",
   "metadata": {},
   "outputs": [],
   "source": [
    "# Generate text embeddings and resulting similarity scores for full training set\n",
    "model_name = 'bert-base-nli-mean-tokens'\n",
    "model = SentenceTransformer(model_name)\n",
    "\n",
    "def sim_score(a, b):\n",
    "    sentence_vecs = model.encode([a, b])\n",
    "    sim = cosine_similarity(sentence_vecs[0:], sentence_vecs[1:])[0, 0]\n",
    "    print(a, b, sim)\n",
    "    return sim\n",
    "\n",
    "#train_df['sim'] = train_df[['anchor', 'target']].apply(lambda t: sim_score(*t), axis = 1)\n",
    "#train_df.to_csv('train_ext.csv')\n",
    "#train_df_ext = train_df\n",
    "train_df_ext = pd.read_csv('train_ext.csv')"
   ]
  },
  {
   "cell_type": "code",
   "execution_count": 9,
   "id": "697d09d8",
   "metadata": {},
   "outputs": [
    {
     "data": {
      "text/html": [
       "<div>\n",
       "<style scoped>\n",
       "    .dataframe tbody tr th:only-of-type {\n",
       "        vertical-align: middle;\n",
       "    }\n",
       "\n",
       "    .dataframe tbody tr th {\n",
       "        vertical-align: top;\n",
       "    }\n",
       "\n",
       "    .dataframe thead th {\n",
       "        text-align: right;\n",
       "    }\n",
       "</style>\n",
       "<table border=\"1\" class=\"dataframe\">\n",
       "  <thead>\n",
       "    <tr style=\"text-align: right;\">\n",
       "      <th></th>\n",
       "      <th>Unnamed: 0</th>\n",
       "      <th>id</th>\n",
       "      <th>anchor</th>\n",
       "      <th>target</th>\n",
       "      <th>context</th>\n",
       "      <th>score</th>\n",
       "      <th>sim</th>\n",
       "    </tr>\n",
       "  </thead>\n",
       "  <tbody>\n",
       "    <tr>\n",
       "      <th>0</th>\n",
       "      <td>0</td>\n",
       "      <td>37d61fd2272659b1</td>\n",
       "      <td>abatement</td>\n",
       "      <td>abatement of pollution</td>\n",
       "      <td>A47</td>\n",
       "      <td>0.500</td>\n",
       "      <td>0.805</td>\n",
       "    </tr>\n",
       "    <tr>\n",
       "      <th>1</th>\n",
       "      <td>1</td>\n",
       "      <td>7b9652b17b68b7a4</td>\n",
       "      <td>abatement</td>\n",
       "      <td>act of abating</td>\n",
       "      <td>A47</td>\n",
       "      <td>0.750</td>\n",
       "      <td>0.912</td>\n",
       "    </tr>\n",
       "    <tr>\n",
       "      <th>2</th>\n",
       "      <td>2</td>\n",
       "      <td>36d72442aefd8232</td>\n",
       "      <td>abatement</td>\n",
       "      <td>active catalyst</td>\n",
       "      <td>A47</td>\n",
       "      <td>0.250</td>\n",
       "      <td>0.653</td>\n",
       "    </tr>\n",
       "    <tr>\n",
       "      <th>3</th>\n",
       "      <td>3</td>\n",
       "      <td>5296b0c19e1ce60e</td>\n",
       "      <td>abatement</td>\n",
       "      <td>eliminating process</td>\n",
       "      <td>A47</td>\n",
       "      <td>0.500</td>\n",
       "      <td>0.796</td>\n",
       "    </tr>\n",
       "    <tr>\n",
       "      <th>4</th>\n",
       "      <td>4</td>\n",
       "      <td>54c1e3b9184cb5b6</td>\n",
       "      <td>abatement</td>\n",
       "      <td>forest region</td>\n",
       "      <td>A47</td>\n",
       "      <td>0.000</td>\n",
       "      <td>0.432</td>\n",
       "    </tr>\n",
       "    <tr>\n",
       "      <th>...</th>\n",
       "      <td>...</td>\n",
       "      <td>...</td>\n",
       "      <td>...</td>\n",
       "      <td>...</td>\n",
       "      <td>...</td>\n",
       "      <td>...</td>\n",
       "      <td>...</td>\n",
       "    </tr>\n",
       "    <tr>\n",
       "      <th>36468</th>\n",
       "      <td>36468</td>\n",
       "      <td>8e1386cbefd7f245</td>\n",
       "      <td>wood article</td>\n",
       "      <td>wooden article</td>\n",
       "      <td>B44</td>\n",
       "      <td>1.000</td>\n",
       "      <td>0.811</td>\n",
       "    </tr>\n",
       "    <tr>\n",
       "      <th>36469</th>\n",
       "      <td>36469</td>\n",
       "      <td>42d9e032d1cd3242</td>\n",
       "      <td>wood article</td>\n",
       "      <td>wooden box</td>\n",
       "      <td>B44</td>\n",
       "      <td>0.500</td>\n",
       "      <td>0.760</td>\n",
       "    </tr>\n",
       "    <tr>\n",
       "      <th>36470</th>\n",
       "      <td>36470</td>\n",
       "      <td>208654ccb9e14fa3</td>\n",
       "      <td>wood article</td>\n",
       "      <td>wooden handle</td>\n",
       "      <td>B44</td>\n",
       "      <td>0.500</td>\n",
       "      <td>0.748</td>\n",
       "    </tr>\n",
       "    <tr>\n",
       "      <th>36471</th>\n",
       "      <td>36471</td>\n",
       "      <td>756ec035e694722b</td>\n",
       "      <td>wood article</td>\n",
       "      <td>wooden material</td>\n",
       "      <td>B44</td>\n",
       "      <td>0.750</td>\n",
       "      <td>0.763</td>\n",
       "    </tr>\n",
       "    <tr>\n",
       "      <th>36472</th>\n",
       "      <td>36472</td>\n",
       "      <td>8d135da0b55b8c88</td>\n",
       "      <td>wood article</td>\n",
       "      <td>wooden substrate</td>\n",
       "      <td>B44</td>\n",
       "      <td>0.500</td>\n",
       "      <td>0.778</td>\n",
       "    </tr>\n",
       "  </tbody>\n",
       "</table>\n",
       "<p>36473 rows × 7 columns</p>\n",
       "</div>"
      ],
      "text/plain": [
       "       Unnamed: 0                id        anchor                  target  \\\n",
       "0               0  37d61fd2272659b1     abatement  abatement of pollution   \n",
       "1               1  7b9652b17b68b7a4     abatement          act of abating   \n",
       "2               2  36d72442aefd8232     abatement         active catalyst   \n",
       "3               3  5296b0c19e1ce60e     abatement     eliminating process   \n",
       "4               4  54c1e3b9184cb5b6     abatement           forest region   \n",
       "...           ...               ...           ...                     ...   \n",
       "36468       36468  8e1386cbefd7f245  wood article          wooden article   \n",
       "36469       36469  42d9e032d1cd3242  wood article              wooden box   \n",
       "36470       36470  208654ccb9e14fa3  wood article           wooden handle   \n",
       "36471       36471  756ec035e694722b  wood article         wooden material   \n",
       "36472       36472  8d135da0b55b8c88  wood article        wooden substrate   \n",
       "\n",
       "      context  score   sim  \n",
       "0         A47  0.500 0.805  \n",
       "1         A47  0.750 0.912  \n",
       "2         A47  0.250 0.653  \n",
       "3         A47  0.500 0.796  \n",
       "4         A47  0.000 0.432  \n",
       "...       ...    ...   ...  \n",
       "36468     B44  1.000 0.811  \n",
       "36469     B44  0.500 0.760  \n",
       "36470     B44  0.500 0.748  \n",
       "36471     B44  0.750 0.763  \n",
       "36472     B44  0.500 0.778  \n",
       "\n",
       "[36473 rows x 7 columns]"
      ]
     },
     "execution_count": 9,
     "metadata": {},
     "output_type": "execute_result"
    }
   ],
   "source": [
    "train_df_ext"
   ]
  },
  {
   "cell_type": "markdown",
   "id": "ec6c66b2",
   "metadata": {},
   "source": [
    "### Variable Type Transformations"
   ]
  },
  {
   "cell_type": "markdown",
   "id": "ea821848",
   "metadata": {},
   "source": [
    "### Aggregate, Descriptive Statistic, and Distribution Review"
   ]
  },
  {
   "cell_type": "markdown",
   "id": "4b4068a3",
   "metadata": {},
   "source": [
    "### Missing Value Review and Treatment"
   ]
  },
  {
   "cell_type": "markdown",
   "id": "43015a32",
   "metadata": {},
   "source": [
    "### Outlier Review and Treatment"
   ]
  },
  {
   "cell_type": "markdown",
   "id": "aaa358c2",
   "metadata": {},
   "source": [
    "### Duplicate Value Review and Treatment"
   ]
  },
  {
   "cell_type": "markdown",
   "id": "5bdc96a1",
   "metadata": {},
   "source": [
    "### Categorical Feature Standardization"
   ]
  },
  {
   "cell_type": "markdown",
   "id": "33f3fe89",
   "metadata": {},
   "source": [
    "### Data Normalization/Standardization/Rescaling"
   ]
  },
  {
   "cell_type": "markdown",
   "id": "635d355c",
   "metadata": {},
   "source": [
    "## Multivariate Analysis, Model and Feature Selection/Refinement"
   ]
  },
  {
   "cell_type": "markdown",
   "id": "8b334194",
   "metadata": {},
   "source": [
    "### Key Q n"
   ]
  },
  {
   "cell_type": "markdown",
   "id": "a2d892da",
   "metadata": {},
   "source": [
    "### Category Variable \"Dummy\" Encoding"
   ]
  },
  {
   "cell_type": "markdown",
   "id": "214083df",
   "metadata": {},
   "source": [
    "### Model Feature Selection"
   ]
  },
  {
   "cell_type": "markdown",
   "id": "646d03bd",
   "metadata": {},
   "source": [
    "### Model Feature Preparation"
   ]
  },
  {
   "cell_type": "markdown",
   "id": "38bf806e",
   "metadata": {},
   "source": [
    "### Model Collinearity Check"
   ]
  },
  {
   "cell_type": "markdown",
   "id": "403c5051",
   "metadata": {},
   "source": [
    "## Model Train, Test, and Evaluation"
   ]
  },
  {
   "cell_type": "markdown",
   "id": "e7fac7e9",
   "metadata": {},
   "source": [
    "### Model Iteration n"
   ]
  }
 ],
 "metadata": {
  "interpreter": {
   "hash": "ff47cd274c8997be5d64cba89aa887a6d1b42c6cd14acdf64f98ed7dc2146a1f"
  },
  "kernelspec": {
   "display_name": "Python 3 (ipykernel)",
   "language": "python",
   "name": "python3"
  },
  "language_info": {
   "codemirror_mode": {
    "name": "ipython",
    "version": 3
   },
   "file_extension": ".py",
   "mimetype": "text/x-python",
   "name": "python",
   "nbconvert_exporter": "python",
   "pygments_lexer": "ipython3",
   "version": "3.9.5"
  }
 },
 "nbformat": 4,
 "nbformat_minor": 5
}
